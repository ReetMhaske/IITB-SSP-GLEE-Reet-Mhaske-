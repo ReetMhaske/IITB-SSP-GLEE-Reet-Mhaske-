{
 "cells": [
  {
   "cell_type": "code",
   "execution_count": 1,
   "id": "8c67860b",
   "metadata": {},
   "outputs": [],
   "source": [
    "from devito import * "
   ]
  },
  {
   "cell_type": "code",
   "execution_count": 4,
   "id": "82d8d985",
   "metadata": {},
   "outputs": [],
   "source": [
    "N=1000# no. of points on X axis4\n",
    "L=1# extent of x axis\n",
    "c=1\n",
    "grid =Grid(shape=(N),extent=(L))\n",
    "grid1 =Grid(shape=(N),extent=(L))\n",
    "dx=L/N\n",
    "dt=dx/5"
   ]
  },
  {
   "cell_type": "code",
   "execution_count": 5,
   "id": "647d8a72",
   "metadata": {},
   "outputs": [],
   "source": [
    "u=TimeFunction(name=\"u\",grid=grid,space_order=2,time_order=2)\n",
    "u1=TimeFunction(name=\"u1\",grid=grid1,space_order=2,time_order=2)\n",
    "#space order 2, not 3 because dx2 in equation and only dx"
   ]
  },
  {
   "cell_type": "code",
   "execution_count": 6,
   "id": "94022faf",
   "metadata": {},
   "outputs": [],
   "source": [
    "from numpy import linspace\n",
    "x=linspace(0,L,N)#x axis\n"
   ]
  },
  {
   "cell_type": "code",
   "execution_count": 7,
   "id": "920f8d4b",
   "metadata": {},
   "outputs": [],
   "source": [
    "def g(x):\n",
    "    return x**2*(x-1)\n",
    "def h(x):\n",
    "    return np.zeros(shape=np.size(x))\n"
   ]
  },
  {
   "cell_type": "code",
   "execution_count": 8,
   "id": "617369f5",
   "metadata": {},
   "outputs": [
    {
     "name": "stdout",
     "output_type": "stream",
     "text": [
      "[[-0.000000e+00 -1.001000e-06 -3.999988e-06 ... -1.993994e-03\n",
      "  -9.989979e-04  0.000000e+00]\n",
      " [-0.000000e+00 -1.001000e-06 -3.999988e-06 ... -1.993994e-03\n",
      "  -9.989979e-04  0.000000e+00]\n",
      " [ 0.000000e+00  0.000000e+00  0.000000e+00 ...  0.000000e+00\n",
      "   0.000000e+00  0.000000e+00]]\n"
     ]
    }
   ],
   "source": [
    "import numpy as np\n",
    "#initial condition:  u.dt at t=0 is 0 so u(0,x)=u(dt,x)\n",
    "t_s=grid.stepping_dim\n",
    "u.data[0,:]= g(x)\n",
    "u.data[1,:]=g(x)#=+h(x)*dt #g(x)+h(x)*dt\n",
    "np.shape(u.data)\n",
    "print(u.data)"
   ]
  },
  {
   "cell_type": "code",
   "execution_count": 9,
   "id": "5ee54194",
   "metadata": {},
   "outputs": [],
   "source": [
    "#boundary condtions\n",
    "bc1=[Eq(u[t_s+1,0],u[t_s+1,1])]#u.dx at (0,t)=0\n",
    "bc2=[Eq(u[t_s+1,-1],u[t_s+1,-2])]"
   ]
  },
  {
   "cell_type": "code",
   "execution_count": 10,
   "id": "c53f1fca",
   "metadata": {},
   "outputs": [
    {
     "data": {
      "image/png": "[encoded data removed]",
      "text/plain": [
       "<Figure size 432x288 with 1 Axes>"
      ]
     },
     "metadata": {
      "needs_background": "light"
     },
     "output_type": "display_data"
    }
   ],
   "source": [
    "#function at t=0 \n",
    "import matplotlib.pyplot as plt\n",
    "%matplotlib inline\n",
    "plt.plot(x,u.data[0,:])\n",
    "plt.xlabel(\"X\")\n",
    "plt.ylabel(\"u[x,t] at t=0\")\n",
    "plt.show()"
   ]
  },
  {
   "cell_type": "code",
   "execution_count": 11,
   "id": "1aeebd28",
   "metadata": {},
   "outputs": [
    {
     "data": {
      "text/latex": [
       "$\\displaystyle u{\\left(t + dt,x \\right)} = dt^{2} \\left(\\frac{\\partial^{2}}{\\partial x^{2}} u{\\left(t,x \\right)} + \\frac{2.0 u{\\left(t,x \\right)}}{dt^{2}} - \\frac{u{\\left(t - dt,x \\right)}}{dt^{2}}\\right)$"
      ],
      "text/plain": [
       "Eq(u(t + dt, x), dt**2*(Derivative(u(t, x), (x, 2)) + 2.0*u(t, x)/dt**2 - u(t - dt, x)/dt**2))"
      ]
     },
     "execution_count": 11,
     "metadata": {},
     "output_type": "execute_result"
    }
   ],
   "source": [
    "pde=(u.dt2)-(c**2)*(u.dx2)\n",
    "eq=Eq(u.forward,solve(pde,u.forward))\n",
    "eq"
   ]
  },
  {
   "cell_type": "code",
   "execution_count": 12,
   "id": "af4161a6",
   "metadata": {},
   "outputs": [],
   "source": [
    "op= Operator([eq]+bc1+bc2)"
   ]
  },
  {
   "cell_type": "code",
   "execution_count": 13,
   "id": "1995063b",
   "metadata": {},
   "outputs": [
    {
     "name": "stderr",
     "output_type": "stream",
     "text": [
      "Operator `Kernel` ran in 0.01 s\n"
     ]
    },
    {
     "data": {
      "text/plain": [
       "PerformanceSummary([(PerfKey(name='section0', rank=None),\n",
       "                     PerfEntry(time=0.0007940000000000128, gflopss=0.0, gpointss=0.0, oi=0.0, ops=0, itershapes=[]))])"
      ]
     },
     "execution_count": 13,
     "metadata": {},
     "output_type": "execute_result"
    }
   ],
   "source": [
    "op.apply(time_m=1,time_M=2400,dt=dt)"
   ]
  },
  {
   "cell_type": "code",
   "execution_count": 14,
   "id": "90402b95",
   "metadata": {},
   "outputs": [
    {
     "data": {
      "image/png": "[encoded data removed]",
      "text/plain": [
       "<Figure size 432x288 with 1 Axes>"
      ]
     },
     "metadata": {
      "needs_background": "light"
     },
     "output_type": "display_data"
    }
   ],
   "source": [
    "import  matplotlib.pyplot as plt\n",
    "%matplotlib inline\n",
    "plt.plot(np.linspace(0,1,1000),u.data[0,:])\n",
    "plt.xlabel(\"X\")\n",
    "plt.ylabel(\"u[x,t] at t =0.48\")\n",
    "plt.xlim(0,1)\n",
    "plt.show()"
   ]
  },
  {
   "cell_type": "code",
   "execution_count": 15,
   "id": "1d3b033c",
   "metadata": {},
   "outputs": [],
   "source": [
    "#exact  answer:"
   ]
  },
  {
   "cell_type": "code",
   "execution_count": 16,
   "id": "7cf95b68",
   "metadata": {},
   "outputs": [],
   "source": [
    "from numpy import *"
   ]
  },
  {
   "cell_type": "code",
   "execution_count": 17,
   "id": "3287d091",
   "metadata": {},
   "outputs": [],
   "source": [
    "# function for coefficient of terms\n",
    "def a(n):\n",
    "    if n>0: return ((-1)**n)*2*(L**3)/((n**4)*(pi**4))*((n**2)*(pi**2)+6*(1+(-1)**n))\n",
    "    elif n==0:return -(L**3)/12"
   ]
  },
  {
   "cell_type": "code",
   "execution_count": null,
   "id": "e264a999",
   "metadata": {},
   "outputs": [],
   "source": []
  },
  {
   "cell_type": "code",
   "execution_count": 18,
   "id": "0c30d74c",
   "metadata": {},
   "outputs": [],
   "source": [
    " #series summation upto n terms\n",
    "def sigma(n,x,t) :\n",
    "    summ=0\n",
    "    for j in range (0,n+1):\n",
    "        summ+= a(j)* cos(j*pi*c*t/L)*cos(j*pi*x/L)\n",
    "    return summ         \n",
    "    "
   ]
  },
  {
   "cell_type": "code",
   "execution_count": 19,
   "id": "45efbe30",
   "metadata": {},
   "outputs": [],
   "source": [
    "\n",
    "time=1.2#as time_M =600, so time =time_M*dt=0.06, where dt=dx/10=(L/N)/10=0.0001\n",
    "num=1000# no of terms in summation formula\n",
    "u2=zeros(N,dtype=float)# array to store values of function\n",
    "for i in range(0,N):# fill u2 with value:\n",
    "    u2[i]=sigma(num,i*dx,time)\n",
    "    "
   ]
  },
  {
   "cell_type": "code",
   "execution_count": 20,
   "id": "5b4d76e4",
   "metadata": {},
   "outputs": [
    {
     "data": {
      "image/png": "[encoded data removed]",
      "text/plain": [
       "<Figure size 432x288 with 1 Axes>"
      ]
     },
     "metadata": {
      "needs_background": "light"
     },
     "output_type": "display_data"
    }
   ],
   "source": [
    "import  matplotlib.pyplot as plt\n",
    "%matplotlib inline\n",
    "plt.plot(x,u2[:])\n",
    "plt.xlabel(\"X\")\n",
    "plt.ylabel(\"u[x,t]\")\n",
    "plt.show()"
   ]
  },
  {
   "cell_type": "code",
   "execution_count": null,
   "id": "3c029635",
   "metadata": {},
   "outputs": [],
   "source": []
  },
  {
   "cell_type": "code",
   "execution_count": null,
   "id": "e6331aad",
   "metadata": {},
   "outputs": [],
   "source": []
  },
  {
   "cell_type": "code",
   "execution_count": null,
   "id": "774e9795",
   "metadata": {},
   "outputs": [],
   "source": []
  },
  {
   "cell_type": "code",
   "execution_count": null,
   "id": "8066032d",
   "metadata": {},
   "outputs": [],
   "source": []
  }
 ],
 "metadata": {
  "kernelspec": {
   "display_name": "Python 3",
   "language": "python",
   "name": "python3"
  },
  "language_info": {
   "codemirror_mode": {
    "name": "ipython",
    "version": 3
   },
   "file_extension": ".py",
   "mimetype": "text/x-python",
   "name": "python",
   "nbconvert_exporter": "python",
   "pygments_lexer": "ipython3",
   "version": "3.8.10"
  }
 },
 "nbformat": 4,
 "nbformat_minor": 5
}
