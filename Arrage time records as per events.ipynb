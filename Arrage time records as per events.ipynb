{
 "cells": [
  {
   "cell_type": "code",
   "execution_count": 1,
   "id": "dc1c66d0",
   "metadata": {},
   "outputs": [],
   "source": [
    "import numpy as np\n",
    "from math import *\n",
    "import matplotlib.pyplot as plt\n",
    "\n",
    "\n",
    "\n"
   ]
  },
  {
   "cell_type": "code",
   "execution_count": 2,
   "id": "1c7b76a1",
   "metadata": {},
   "outputs": [],
   "source": [
    "n_events=2#no. of events\n",
    "n_rec=3#no. of receivers\n",
    "rec_pos=np.zeros(shape=(n_rec,2))#2D list of rec positions, rec_pos[n]=[x,y] for n-1th rec\n",
    "t_rec=np.zeros(shape=(n_rec,n_events))#2D list: stores sensor recordings in the format:\n",
    "#[[events as recorded by rec1], [events as recorded by rec2],...] \n",
    "c=1"
   ]
  },
  {
   "cell_type": "code",
   "execution_count": 3,
   "id": "1c2314b0",
   "metadata": {},
   "outputs": [
    {
     "name": "stdout",
     "output_type": "stream",
     "text": [
      "[[1. 4.]\n",
      " [2. 1.]\n",
      " [2. 3.]]\n",
      "[[1.0050765  4.01391777]\n",
      " [1.9803987  0.98726843]\n",
      " [2.0059358  3.00311738]]\n"
     ]
    }
   ],
   "source": [
    "rec_pos[0]=(0,0)\n",
    "rec_pos[1]=(1,0)\n",
    "rec_pos[2]=(2,0)\n",
    "t_rec[0,0]=1\n",
    "t_rec[0,1]=4\n",
    "t_rec[1,0]=2\n",
    "t_rec[1,1]=1\n",
    "t_rec[2,0]=2\n",
    "t_rec[2,1]=3\n",
    "print(t_rec)\n",
    "t_noise=np.random.normal(loc=0.0,scale=0.02,size=(n_rec,n_events))\n",
    "t_rec+=t_noise\n",
    "print(t_rec)"
   ]
  },
  {
   "cell_type": "code",
   "execution_count": 4,
   "id": "38c6d8f8",
   "metadata": {},
   "outputs": [],
   "source": [
    "def arrange_events(e):\n",
    "    e=e-1\n",
    "    '''returns array of time recorded in all sensors corresponding to e_th event w.r.t 0_th receiver'''\n",
    "    t_e=np.zeros(n_rec)#array to be returned with time recorded for e_th event in all recvs\n",
    "    t_e[0]=t_rec[0,e]\n",
    "    for i in range(1,n_rec):#loop for rec\n",
    "        d=sqrt((rec_pos[0,0]-rec_pos[i,0])**2+(rec_pos[0,1]-rec_pos[i,1])**2)\n",
    "        t_expected=d/c,\n",
    "        for j in range(0,n_events-1):\n",
    "            if(abs(abs(t_rec[0,e]-t_rec[i,j])-t_expected)<\\\n",
    "               abs(abs(t_rec[0,e]-t_rec[i,j+1])-t_expected)):\n",
    "                t_e[i]=t_rec[i,j]\n",
    "            else: t_e[i]=t_rec[i,j+1]\n",
    "    return t_e\n",
    "          "
   ]
  },
  {
   "cell_type": "code",
   "execution_count": 5,
   "id": "63810a8f",
   "metadata": {},
   "outputs": [
    {
     "name": "stdout",
     "output_type": "stream",
     "text": [
      "[1.0050765  1.9803987  3.00311738]\n"
     ]
    }
   ],
   "source": [
    "t_1=arrange_events(1)\n",
    "print(t_1)"
   ]
  },
  {
   "cell_type": "code",
   "execution_count": null,
   "id": "ed6696fa",
   "metadata": {},
   "outputs": [],
   "source": []
  },
  {
   "cell_type": "code",
   "execution_count": null,
   "id": "a6a66631",
   "metadata": {},
   "outputs": [],
   "source": []
  },
  {
   "cell_type": "code",
   "execution_count": null,
   "id": "53221743",
   "metadata": {},
   "outputs": [],
   "source": []
  }
 ],
 "metadata": {
  "kernelspec": {
   "display_name": "Python 3",
   "language": "python",
   "name": "python3"
  },
  "language_info": {
   "codemirror_mode": {
    "name": "ipython",
    "version": 3
   },
   "file_extension": ".py",
   "mimetype": "text/x-python",
   "name": "python",
   "nbconvert_exporter": "python",
   "pygments_lexer": "ipython3",
   "version": "3.8.10"
  }
 },
 "nbformat": 4,
 "nbformat_minor": 5
}
